{
 "cells": [
  {
   "cell_type": "code",
   "execution_count": 9,
   "id": "54d597da-08b5-4ec2-b0eb-2d2b76d3130a",
   "metadata": {
    "execution": {
     "iopub.execute_input": "2021-12-02T03:46:42.219844Z",
     "iopub.status.busy": "2021-12-02T03:46:42.219480Z",
     "iopub.status.idle": "2021-12-02T03:46:42.224661Z",
     "shell.execute_reply": "2021-12-02T03:46:42.224053Z",
     "shell.execute_reply.started": "2021-12-02T03:46:42.219811Z"
    },
    "tags": []
   },
   "outputs": [],
   "source": [
    "import numpy as np\n",
    "import pandas as pd\n",
    "from datasets import Dataset\n",
    "from torch import logical_and, logical_or, nn\n",
    "from torch.utils.data import DataLoader\n",
    "from transformers import (\n",
    "    AutoModelForSequenceClassification,\n",
    "    AutoTokenizer,\n",
    "    Trainer,\n",
    "    TrainingArguments,\n",
    ")"
   ]
  },
  {
   "cell_type": "code",
   "execution_count": 10,
   "id": "6e193bb6-f672-4853-8206-e6b0154a83ee",
   "metadata": {
    "execution": {
     "iopub.execute_input": "2021-12-02T03:46:42.226185Z",
     "iopub.status.busy": "2021-12-02T03:46:42.225969Z",
     "iopub.status.idle": "2021-12-02T03:46:42.230375Z",
     "shell.execute_reply": "2021-12-02T03:46:42.229393Z",
     "shell.execute_reply.started": "2021-12-02T03:46:42.226156Z"
    },
    "tags": []
   },
   "outputs": [],
   "source": [
    "# Configurations\n",
    "model_name = \"distilbert-base-uncased\"\n",
    "test_ratio = 0.1\n",
    "val_ratio = 0.1\n",
    "batch_size = 8\n",
    "num_genres = 10"
   ]
  },
  {
   "cell_type": "code",
   "execution_count": 11,
   "id": "5281f0f3-657d-49c7-9805-04861b1bfa0a",
   "metadata": {
    "execution": {
     "iopub.execute_input": "2021-12-02T03:46:42.231507Z",
     "iopub.status.busy": "2021-12-02T03:46:42.231296Z",
     "iopub.status.idle": "2021-12-02T03:46:48.729716Z",
     "shell.execute_reply": "2021-12-02T03:46:48.728661Z",
     "shell.execute_reply.started": "2021-12-02T03:46:42.231478Z"
    },
    "tags": []
   },
   "outputs": [],
   "source": [
    "# Load data and nest genres\n",
    "df = pd.read_csv(\"data/df_fixed.csv\")\n",
    "df_genres = pd.read_csv(\"data/df_genres.csv\")\n",
    "\n",
    "# Some data cleaning on the Plot\n",
    "regex_fixes = [\n",
    "    [\"\\s*\\[.*\\]\", \" \", True],  # footnotes\n",
    "    [\"–|—\", \"-\", True],  # dash\n",
    "    [\"\\r\\n\", \"\", True],  # newlines\n",
    "]\n",
    "\n",
    "for i, row in enumerate(regex_fixes):\n",
    "    df[\"Plot\"] = df[\"Plot\"].str.replace(row[0], row[1], regex=row[2])"
   ]
  },
  {
   "cell_type": "code",
   "execution_count": 12,
   "id": "9754a41e-2a38-4fba-81d8-f69dfd72dd95",
   "metadata": {
    "execution": {
     "iopub.execute_input": "2021-12-02T03:46:48.733684Z",
     "iopub.status.busy": "2021-12-02T03:46:48.733366Z",
     "iopub.status.idle": "2021-12-02T03:46:48.769553Z",
     "shell.execute_reply": "2021-12-02T03:46:48.768916Z",
     "shell.execute_reply.started": "2021-12-02T03:46:48.733651Z"
    },
    "tags": []
   },
   "outputs": [],
   "source": [
    "# Merge similar genres (see https://aclanthology.org/Y18-1007.pdf)\n",
    "genre_groups = pd.DataFrame(\n",
    "    [\n",
    "        (\n",
    "            \"action\",\n",
    "            [\n",
    "                \"action\",\n",
    "                \"adventure\",\n",
    "                \"sci-fi\",\n",
    "                \"superhero\",\n",
    "                \"sport\",\n",
    "                \"spy\",\n",
    "                \"war\",\n",
    "                \"worldwar-i\",\n",
    "                \"worldwar-ii\",\n",
    "            ],\n",
    "        ),\n",
    "        (\"comedy\", [\"comedy\", \"rom-com\", \"black-comedy\"]),\n",
    "        (\"drama\", [\"drama\", \"fantasy\", \"biodrama\", \"melodrama\"]),\n",
    "        (\"family\", [\"family\", \"animation\", \"musical\", \"anime\", \"child\"]),\n",
    "        (\"thriller\", [\"thriller\", \"mystery\"]),\n",
    "        (\"documentary\", [\"documentary\", \"biographical\", \"historical\"]),\n",
    "    ],\n",
    "    columns=[\"genre_group\", \"Genre\"],\n",
    ").explode(\"Genre\")\n",
    "\n",
    "df_genres = df_genres.merge(genre_groups, how=\"left\", on=\"Genre\")\n",
    "df_genres.loc[df_genres.genre_group.notna(), \"Genre\"] = df_genres[\"genre_group\"]"
   ]
  },
  {
   "cell_type": "code",
   "execution_count": 13,
   "id": "c2a5e173-c689-4015-81a5-78bb399b2dfa",
   "metadata": {
    "execution": {
     "iopub.execute_input": "2021-12-02T03:46:48.771433Z",
     "iopub.status.busy": "2021-12-02T03:46:48.771218Z",
     "iopub.status.idle": "2021-12-02T03:46:48.803335Z",
     "shell.execute_reply": "2021-12-02T03:46:48.802771Z",
     "shell.execute_reply.started": "2021-12-02T03:46:48.771404Z"
    },
    "tags": []
   },
   "outputs": [
    {
     "data": {
      "text/plain": [
       "array(['drama', 'comedy', 'action', 'family', 'thriller', 'romance',\n",
       "       'crime', 'horror', 'western', 'documentary'], dtype=object)"
      ]
     },
     "execution_count": 13,
     "metadata": {},
     "output_type": "execute_result"
    }
   ],
   "source": [
    "# Only keep the top `num_genres` genres\n",
    "top_genres = (\n",
    "    df_genres.query(\"Genre != 'unknown'\")\n",
    "    .groupby(\"Genre\")\n",
    "    .agg(n=(\"Genre\", \"count\"))\n",
    "    .reset_index()\n",
    "    .sort_values(\"n\", ascending=False)\n",
    "    .head(num_genres)\n",
    "    .Genre.values\n",
    ")\n",
    "\n",
    "top_genres"
   ]
  },
  {
   "cell_type": "code",
   "execution_count": 14,
   "id": "0b13b3e5-3e8f-429d-abb1-6a4a23a1bee2",
   "metadata": {
    "execution": {
     "iopub.execute_input": "2021-12-02T03:46:48.804476Z",
     "iopub.status.busy": "2021-12-02T03:46:48.804262Z",
     "iopub.status.idle": "2021-12-02T03:46:48.915330Z",
     "shell.execute_reply": "2021-12-02T03:46:48.914678Z",
     "shell.execute_reply.started": "2021-12-02T03:46:48.804447Z"
    },
    "tags": []
   },
   "outputs": [],
   "source": [
    "# Encode genre labels to wide arrays\n",
    "df_genres = (\n",
    "    df_genres.query(\"Genre in @top_genres\")\n",
    "    .assign(cnt=1)\n",
    "    .pivot_table(index=[\"movieID\"], columns=\"Genre\", values=[\"cnt\"])\n",
    "    .fillna(0)\n",
    "    # .astype(int)\n",
    "    .reset_index(col_level=1)  # get movieID out\n",
    ")\n",
    "\n",
    "df_genres.columns = [x[1] for x in df_genres.columns]\n",
    "df_genres = df_genres.set_index(\"movieID\")\n",
    "\n",
    "genre_names = df_genres.columns.tolist()\n",
    "labels = df_genres.values.tolist()\n",
    "df_genres = pd.DataFrame({\"movieID\": df_genres.index, \"labels\": labels})"
   ]
  },
  {
   "cell_type": "code",
   "execution_count": 15,
   "id": "6ab835c8-ce1f-48a6-8032-e50f90c0e28d",
   "metadata": {
    "execution": {
     "iopub.execute_input": "2021-12-02T03:46:48.916591Z",
     "iopub.status.busy": "2021-12-02T03:46:48.916372Z",
     "iopub.status.idle": "2021-12-02T03:46:48.975409Z",
     "shell.execute_reply": "2021-12-02T03:46:48.974806Z",
     "shell.execute_reply.started": "2021-12-02T03:46:48.916561Z"
    },
    "tags": []
   },
   "outputs": [
    {
     "data": {
      "text/html": [
       "<div>\n",
       "<style scoped>\n",
       "    .dataframe tbody tr th:only-of-type {\n",
       "        vertical-align: middle;\n",
       "    }\n",
       "\n",
       "    .dataframe tbody tr th {\n",
       "        vertical-align: top;\n",
       "    }\n",
       "\n",
       "    .dataframe thead th {\n",
       "        text-align: right;\n",
       "    }\n",
       "</style>\n",
       "<table border=\"1\" class=\"dataframe\">\n",
       "  <thead>\n",
       "    <tr style=\"text-align: right;\">\n",
       "      <th></th>\n",
       "      <th>movieID</th>\n",
       "      <th>Plot</th>\n",
       "      <th>labels</th>\n",
       "    </tr>\n",
       "  </thead>\n",
       "  <tbody>\n",
       "    <tr>\n",
       "      <th>6943</th>\n",
       "      <td>7598</td>\n",
       "      <td>A vagabond family composed of Pop Kwimper (Art...</td>\n",
       "      <td>[0.0, 1.0, 0.0, 0.0, 0.0, 1.0, 0.0, 0.0, 0.0, ...</td>\n",
       "    </tr>\n",
       "    <tr>\n",
       "      <th>5304</th>\n",
       "      <td>5787</td>\n",
       "      <td>Robert Teller (Kirk Douglas) visits a seaport ...</td>\n",
       "      <td>[0.0, 0.0, 0.0, 0.0, 1.0, 0.0, 0.0, 0.0, 0.0, ...</td>\n",
       "    </tr>\n",
       "    <tr>\n",
       "      <th>4249</th>\n",
       "      <td>4541</td>\n",
       "      <td>Connie Dickason is the strong-willed daughter ...</td>\n",
       "      <td>[0.0, 0.0, 0.0, 0.0, 0.0, 0.0, 0.0, 0.0, 0.0, ...</td>\n",
       "    </tr>\n",
       "    <tr>\n",
       "      <th>316</th>\n",
       "      <td>360</td>\n",
       "      <td>Young Jim Hawkins is caught up with the pirate...</td>\n",
       "      <td>[1.0, 0.0, 0.0, 0.0, 0.0, 0.0, 0.0, 0.0, 0.0, ...</td>\n",
       "    </tr>\n",
       "    <tr>\n",
       "      <th>12337</th>\n",
       "      <td>13409</td>\n",
       "      <td>The Miami Sharks, a once-great American footba...</td>\n",
       "      <td>[1.0, 0.0, 0.0, 0.0, 1.0, 0.0, 0.0, 0.0, 0.0, ...</td>\n",
       "    </tr>\n",
       "    <tr>\n",
       "      <th>22407</th>\n",
       "      <td>25223</td>\n",
       "      <td>Sanam Teri Kasam is the story of Sunil (Kamal ...</td>\n",
       "      <td>[0.0, 1.0, 1.0, 0.0, 1.0, 1.0, 0.0, 1.0, 0.0, ...</td>\n",
       "    </tr>\n",
       "    <tr>\n",
       "      <th>10805</th>\n",
       "      <td>11812</td>\n",
       "      <td>Marie (Anne Parillaud) is a very appealing mod...</td>\n",
       "      <td>[0.0, 0.0, 0.0, 0.0, 0.0, 0.0, 1.0, 0.0, 0.0, ...</td>\n",
       "    </tr>\n",
       "    <tr>\n",
       "      <th>6137</th>\n",
       "      <td>6712</td>\n",
       "      <td>Gangsters Nat Burdell (Kenne Duncan) and Brad ...</td>\n",
       "      <td>[1.0, 0.0, 0.0, 0.0, 0.0, 0.0, 0.0, 0.0, 0.0, ...</td>\n",
       "    </tr>\n",
       "    <tr>\n",
       "      <th>10014</th>\n",
       "      <td>10982</td>\n",
       "      <td>Emily Crane (Kelly McGillis), a picture editor...</td>\n",
       "      <td>[0.0, 0.0, 0.0, 0.0, 0.0, 0.0, 0.0, 0.0, 1.0, ...</td>\n",
       "    </tr>\n",
       "    <tr>\n",
       "      <th>26111</th>\n",
       "      <td>32373</td>\n",
       "      <td>Krish (Ram) is a happy-go-lucky guy who lives ...</td>\n",
       "      <td>[0.0, 0.0, 0.0, 0.0, 0.0, 0.0, 0.0, 1.0, 0.0, ...</td>\n",
       "    </tr>\n",
       "  </tbody>\n",
       "</table>\n",
       "</div>"
      ],
      "text/plain": [
       "       movieID                                               Plot  \\\n",
       "6943      7598  A vagabond family composed of Pop Kwimper (Art...   \n",
       "5304      5787  Robert Teller (Kirk Douglas) visits a seaport ...   \n",
       "4249      4541  Connie Dickason is the strong-willed daughter ...   \n",
       "316        360  Young Jim Hawkins is caught up with the pirate...   \n",
       "12337    13409  The Miami Sharks, a once-great American footba...   \n",
       "22407    25223  Sanam Teri Kasam is the story of Sunil (Kamal ...   \n",
       "10805    11812  Marie (Anne Parillaud) is a very appealing mod...   \n",
       "6137      6712  Gangsters Nat Burdell (Kenne Duncan) and Brad ...   \n",
       "10014    10982  Emily Crane (Kelly McGillis), a picture editor...   \n",
       "26111    32373  Krish (Ram) is a happy-go-lucky guy who lives ...   \n",
       "\n",
       "                                                  labels  \n",
       "6943   [0.0, 1.0, 0.0, 0.0, 0.0, 1.0, 0.0, 0.0, 0.0, ...  \n",
       "5304   [0.0, 0.0, 0.0, 0.0, 1.0, 0.0, 0.0, 0.0, 0.0, ...  \n",
       "4249   [0.0, 0.0, 0.0, 0.0, 0.0, 0.0, 0.0, 0.0, 0.0, ...  \n",
       "316    [1.0, 0.0, 0.0, 0.0, 0.0, 0.0, 0.0, 0.0, 0.0, ...  \n",
       "12337  [1.0, 0.0, 0.0, 0.0, 1.0, 0.0, 0.0, 0.0, 0.0, ...  \n",
       "22407  [0.0, 1.0, 1.0, 0.0, 1.0, 1.0, 0.0, 1.0, 0.0, ...  \n",
       "10805  [0.0, 0.0, 0.0, 0.0, 0.0, 0.0, 1.0, 0.0, 0.0, ...  \n",
       "6137   [1.0, 0.0, 0.0, 0.0, 0.0, 0.0, 0.0, 0.0, 0.0, ...  \n",
       "10014  [0.0, 0.0, 0.0, 0.0, 0.0, 0.0, 0.0, 0.0, 1.0, ...  \n",
       "26111  [0.0, 0.0, 0.0, 0.0, 0.0, 0.0, 0.0, 1.0, 0.0, ...  "
      ]
     },
     "execution_count": 15,
     "metadata": {},
     "output_type": "execute_result"
    }
   ],
   "source": [
    "df = (\n",
    "    df.reset_index()\n",
    "    .rename(columns={\"index\": \"movieID\"})\n",
    "    .filter([\"movieID\", \"Plot\"])\n",
    "    .merge(df_genres, on=\"movieID\")\n",
    "    .reset_index(drop=True)\n",
    ")\n",
    "\n",
    "df.sample(10)"
   ]
  },
  {
   "cell_type": "code",
   "execution_count": 8,
   "id": "5503d2ce-fc9a-49f8-8a5c-e9cc2684715e",
   "metadata": {
    "execution": {
     "iopub.execute_input": "2021-12-02T03:45:59.132383Z",
     "iopub.status.busy": "2021-12-02T03:45:59.132159Z",
     "iopub.status.idle": "2021-12-02T03:45:59.137413Z",
     "shell.execute_reply": "2021-12-02T03:45:59.136736Z",
     "shell.execute_reply.started": "2021-12-02T03:45:59.132351Z"
    },
    "tags": []
   },
   "outputs": [
    {
     "data": {
      "text/plain": [
       "(27504, 3)"
      ]
     },
     "execution_count": 8,
     "metadata": {},
     "output_type": "execute_result"
    }
   ],
   "source": [
    "df.shape"
   ]
  },
  {
   "cell_type": "markdown",
   "id": "5639006f-5c09-44eb-a446-3af9a77c9684",
   "metadata": {},
   "source": [
    "## Multi-label classification"
   ]
  },
  {
   "cell_type": "code",
   "execution_count": 17,
   "id": "ad553cfe-57cd-45ef-98c8-acc26f3b1e61",
   "metadata": {
    "execution": {
     "iopub.execute_input": "2021-12-02T03:47:07.279605Z",
     "iopub.status.busy": "2021-12-02T03:47:07.279306Z",
     "iopub.status.idle": "2021-12-02T03:47:17.938163Z",
     "shell.execute_reply": "2021-12-02T03:47:17.937453Z",
     "shell.execute_reply.started": "2021-12-02T03:47:07.279572Z"
    },
    "tags": []
   },
   "outputs": [
    {
     "data": {
      "application/vnd.jupyter.widget-view+json": {
       "model_id": "80184c4e982940f5ab3193e42e25f75d",
       "version_major": 2,
       "version_minor": 0
      },
      "text/plain": [
       "  0%|          | 0/28 [00:00<?, ?ba/s]"
      ]
     },
     "metadata": {},
     "output_type": "display_data"
    }
   ],
   "source": [
    "# Load tokenizer\n",
    "tokenizer = AutoTokenizer.from_pretrained(model_name, use_fast=True)\n",
    "\n",
    "# Construct dataset\n",
    "dat = Dataset.from_pandas(df)\n",
    "\n",
    "# Tokenize the Plot column\n",
    "dat = dat.map(\n",
    "    lambda batch: tokenizer.batch_encode_plus(\n",
    "        batch[\"Plot\"], padding=\"max_length\", truncation=True\n",
    "    ),\n",
    "    batched=True,\n",
    "    remove_columns=[\"movieID\"],\n",
    ")\n",
    "\n",
    "# Retrieve tensors of the following columns as model inputs\n",
    "valid_cols = [\"input_ids\", \"token_type_ids\", \"attention_mask\", \"labels\"]\n",
    "cols = [c for c in dat.column_names if c in valid_cols]\n",
    "dat.set_format(type=\"torch\", columns=cols)\n",
    "\n",
    "# Train/validation/test split\n",
    "dat = dat.train_test_split(test_size=test_ratio, seed=42)\n",
    "dat_train = dat[\"train\"].train_test_split(test_size=val_ratio, seed=42)\n",
    "dat[\"train\"] = dat_train[\"train\"]\n",
    "dat[\"validation\"] = dat_train[\"test\"]"
   ]
  },
  {
   "cell_type": "code",
   "execution_count": 20,
   "id": "46fb4623-d1b0-4acc-8b20-3b9b10219e8c",
   "metadata": {
    "execution": {
     "iopub.execute_input": "2021-12-02T03:47:26.253753Z",
     "iopub.status.busy": "2021-12-02T03:47:26.253423Z",
     "iopub.status.idle": "2021-12-02T03:47:26.259446Z",
     "shell.execute_reply": "2021-12-02T03:47:26.258605Z",
     "shell.execute_reply.started": "2021-12-02T03:47:26.253716Z"
    },
    "tags": []
   },
   "outputs": [
    {
     "data": {
      "text/plain": [
       "22277"
      ]
     },
     "execution_count": 20,
     "metadata": {},
     "output_type": "execute_result"
    }
   ],
   "source": [
    "len(dat[\"train\"])"
   ]
  },
  {
   "cell_type": "code",
   "execution_count": 21,
   "id": "a5755907-e04b-43c8-8ab3-28c8935f5af2",
   "metadata": {
    "execution": {
     "iopub.execute_input": "2021-12-02T03:47:30.859157Z",
     "iopub.status.busy": "2021-12-02T03:47:30.858876Z",
     "iopub.status.idle": "2021-12-02T03:47:30.864768Z",
     "shell.execute_reply": "2021-12-02T03:47:30.863874Z",
     "shell.execute_reply.started": "2021-12-02T03:47:30.859125Z"
    }
   },
   "outputs": [
    {
     "data": {
      "text/plain": [
       "2476"
      ]
     },
     "execution_count": 21,
     "metadata": {},
     "output_type": "execute_result"
    }
   ],
   "source": [
    "len(dat[\"validation\"])"
   ]
  },
  {
   "cell_type": "code",
   "execution_count": 22,
   "id": "39a6e187-d6e9-4bb3-b9e5-94b3eeab645b",
   "metadata": {
    "execution": {
     "iopub.execute_input": "2021-12-02T03:47:33.637603Z",
     "iopub.status.busy": "2021-12-02T03:47:33.637255Z",
     "iopub.status.idle": "2021-12-02T03:47:33.643864Z",
     "shell.execute_reply": "2021-12-02T03:47:33.642841Z",
     "shell.execute_reply.started": "2021-12-02T03:47:33.637564Z"
    },
    "tags": []
   },
   "outputs": [
    {
     "data": {
      "text/plain": [
       "2751"
      ]
     },
     "execution_count": 22,
     "metadata": {},
     "output_type": "execute_result"
    }
   ],
   "source": [
    "len(dat[\"test\"])"
   ]
  },
  {
   "cell_type": "code",
   "execution_count": 23,
   "id": "7d1d4f9a-0c15-4460-9904-60cf2910a004",
   "metadata": {
    "execution": {
     "iopub.execute_input": "2021-12-02T03:47:44.577262Z",
     "iopub.status.busy": "2021-12-02T03:47:44.576936Z",
     "iopub.status.idle": "2021-12-02T03:47:50.584981Z",
     "shell.execute_reply": "2021-12-02T03:47:50.584221Z",
     "shell.execute_reply.started": "2021-12-02T03:47:44.577225Z"
    },
    "tags": []
   },
   "outputs": [
    {
     "name": "stderr",
     "output_type": "stream",
     "text": [
      "Some weights of the model checkpoint at distilbert-base-uncased were not used when initializing DistilBertForSequenceClassification: ['vocab_projector.bias', 'vocab_layer_norm.bias', 'vocab_layer_norm.weight', 'vocab_projector.weight', 'vocab_transform.bias', 'vocab_transform.weight']\n",
      "- This IS expected if you are initializing DistilBertForSequenceClassification from the checkpoint of a model trained on another task or with another architecture (e.g. initializing a BertForSequenceClassification model from a BertForPreTraining model).\n",
      "- This IS NOT expected if you are initializing DistilBertForSequenceClassification from the checkpoint of a model that you expect to be exactly identical (initializing a BertForSequenceClassification model from a BertForSequenceClassification model).\n",
      "Some weights of DistilBertForSequenceClassification were not initialized from the model checkpoint at distilbert-base-uncased and are newly initialized: ['pre_classifier.bias', 'classifier.weight', 'pre_classifier.weight', 'classifier.bias']\n",
      "You should probably TRAIN this model on a down-stream task to be able to use it for predictions and inference.\n"
     ]
    },
    {
     "data": {
      "text/plain": [
       "DistilBertForSequenceClassification(\n",
       "  (distilbert): DistilBertModel(\n",
       "    (embeddings): Embeddings(\n",
       "      (word_embeddings): Embedding(30522, 768, padding_idx=0)\n",
       "      (position_embeddings): Embedding(512, 768)\n",
       "      (LayerNorm): LayerNorm((768,), eps=1e-12, elementwise_affine=True)\n",
       "      (dropout): Dropout(p=0.1, inplace=False)\n",
       "    )\n",
       "    (transformer): Transformer(\n",
       "      (layer): ModuleList(\n",
       "        (0): TransformerBlock(\n",
       "          (attention): MultiHeadSelfAttention(\n",
       "            (dropout): Dropout(p=0.1, inplace=False)\n",
       "            (q_lin): Linear(in_features=768, out_features=768, bias=True)\n",
       "            (k_lin): Linear(in_features=768, out_features=768, bias=True)\n",
       "            (v_lin): Linear(in_features=768, out_features=768, bias=True)\n",
       "            (out_lin): Linear(in_features=768, out_features=768, bias=True)\n",
       "          )\n",
       "          (sa_layer_norm): LayerNorm((768,), eps=1e-12, elementwise_affine=True)\n",
       "          (ffn): FFN(\n",
       "            (dropout): Dropout(p=0.1, inplace=False)\n",
       "            (lin1): Linear(in_features=768, out_features=3072, bias=True)\n",
       "            (lin2): Linear(in_features=3072, out_features=768, bias=True)\n",
       "          )\n",
       "          (output_layer_norm): LayerNorm((768,), eps=1e-12, elementwise_affine=True)\n",
       "        )\n",
       "        (1): TransformerBlock(\n",
       "          (attention): MultiHeadSelfAttention(\n",
       "            (dropout): Dropout(p=0.1, inplace=False)\n",
       "            (q_lin): Linear(in_features=768, out_features=768, bias=True)\n",
       "            (k_lin): Linear(in_features=768, out_features=768, bias=True)\n",
       "            (v_lin): Linear(in_features=768, out_features=768, bias=True)\n",
       "            (out_lin): Linear(in_features=768, out_features=768, bias=True)\n",
       "          )\n",
       "          (sa_layer_norm): LayerNorm((768,), eps=1e-12, elementwise_affine=True)\n",
       "          (ffn): FFN(\n",
       "            (dropout): Dropout(p=0.1, inplace=False)\n",
       "            (lin1): Linear(in_features=768, out_features=3072, bias=True)\n",
       "            (lin2): Linear(in_features=3072, out_features=768, bias=True)\n",
       "          )\n",
       "          (output_layer_norm): LayerNorm((768,), eps=1e-12, elementwise_affine=True)\n",
       "        )\n",
       "        (2): TransformerBlock(\n",
       "          (attention): MultiHeadSelfAttention(\n",
       "            (dropout): Dropout(p=0.1, inplace=False)\n",
       "            (q_lin): Linear(in_features=768, out_features=768, bias=True)\n",
       "            (k_lin): Linear(in_features=768, out_features=768, bias=True)\n",
       "            (v_lin): Linear(in_features=768, out_features=768, bias=True)\n",
       "            (out_lin): Linear(in_features=768, out_features=768, bias=True)\n",
       "          )\n",
       "          (sa_layer_norm): LayerNorm((768,), eps=1e-12, elementwise_affine=True)\n",
       "          (ffn): FFN(\n",
       "            (dropout): Dropout(p=0.1, inplace=False)\n",
       "            (lin1): Linear(in_features=768, out_features=3072, bias=True)\n",
       "            (lin2): Linear(in_features=3072, out_features=768, bias=True)\n",
       "          )\n",
       "          (output_layer_norm): LayerNorm((768,), eps=1e-12, elementwise_affine=True)\n",
       "        )\n",
       "        (3): TransformerBlock(\n",
       "          (attention): MultiHeadSelfAttention(\n",
       "            (dropout): Dropout(p=0.1, inplace=False)\n",
       "            (q_lin): Linear(in_features=768, out_features=768, bias=True)\n",
       "            (k_lin): Linear(in_features=768, out_features=768, bias=True)\n",
       "            (v_lin): Linear(in_features=768, out_features=768, bias=True)\n",
       "            (out_lin): Linear(in_features=768, out_features=768, bias=True)\n",
       "          )\n",
       "          (sa_layer_norm): LayerNorm((768,), eps=1e-12, elementwise_affine=True)\n",
       "          (ffn): FFN(\n",
       "            (dropout): Dropout(p=0.1, inplace=False)\n",
       "            (lin1): Linear(in_features=768, out_features=3072, bias=True)\n",
       "            (lin2): Linear(in_features=3072, out_features=768, bias=True)\n",
       "          )\n",
       "          (output_layer_norm): LayerNorm((768,), eps=1e-12, elementwise_affine=True)\n",
       "        )\n",
       "        (4): TransformerBlock(\n",
       "          (attention): MultiHeadSelfAttention(\n",
       "            (dropout): Dropout(p=0.1, inplace=False)\n",
       "            (q_lin): Linear(in_features=768, out_features=768, bias=True)\n",
       "            (k_lin): Linear(in_features=768, out_features=768, bias=True)\n",
       "            (v_lin): Linear(in_features=768, out_features=768, bias=True)\n",
       "            (out_lin): Linear(in_features=768, out_features=768, bias=True)\n",
       "          )\n",
       "          (sa_layer_norm): LayerNorm((768,), eps=1e-12, elementwise_affine=True)\n",
       "          (ffn): FFN(\n",
       "            (dropout): Dropout(p=0.1, inplace=False)\n",
       "            (lin1): Linear(in_features=768, out_features=3072, bias=True)\n",
       "            (lin2): Linear(in_features=3072, out_features=768, bias=True)\n",
       "          )\n",
       "          (output_layer_norm): LayerNorm((768,), eps=1e-12, elementwise_affine=True)\n",
       "        )\n",
       "        (5): TransformerBlock(\n",
       "          (attention): MultiHeadSelfAttention(\n",
       "            (dropout): Dropout(p=0.1, inplace=False)\n",
       "            (q_lin): Linear(in_features=768, out_features=768, bias=True)\n",
       "            (k_lin): Linear(in_features=768, out_features=768, bias=True)\n",
       "            (v_lin): Linear(in_features=768, out_features=768, bias=True)\n",
       "            (out_lin): Linear(in_features=768, out_features=768, bias=True)\n",
       "          )\n",
       "          (sa_layer_norm): LayerNorm((768,), eps=1e-12, elementwise_affine=True)\n",
       "          (ffn): FFN(\n",
       "            (dropout): Dropout(p=0.1, inplace=False)\n",
       "            (lin1): Linear(in_features=768, out_features=3072, bias=True)\n",
       "            (lin2): Linear(in_features=3072, out_features=768, bias=True)\n",
       "          )\n",
       "          (output_layer_norm): LayerNorm((768,), eps=1e-12, elementwise_affine=True)\n",
       "        )\n",
       "      )\n",
       "    )\n",
       "  )\n",
       "  (pre_classifier): Linear(in_features=768, out_features=768, bias=True)\n",
       "  (classifier): Linear(in_features=768, out_features=10, bias=True)\n",
       "  (dropout): Dropout(p=0.2, inplace=False)\n",
       ")"
      ]
     },
     "execution_count": 23,
     "metadata": {},
     "output_type": "execute_result"
    }
   ],
   "source": [
    "# Modify last layer of model\n",
    "model = AutoModelForSequenceClassification.from_pretrained(\n",
    "    model_name, problem_type=\"multi_label_classification\", num_labels=num_genres\n",
    ")\n",
    "model.to(\"cuda\")"
   ]
  },
  {
   "cell_type": "code",
   "execution_count": 24,
   "id": "1ecf802d-b150-46cb-97a1-8e5513de9014",
   "metadata": {
    "execution": {
     "iopub.execute_input": "2021-12-02T03:48:42.297380Z",
     "iopub.status.busy": "2021-12-02T03:48:42.297010Z",
     "iopub.status.idle": "2021-12-02T03:48:42.305999Z",
     "shell.execute_reply": "2021-12-02T03:48:42.305268Z",
     "shell.execute_reply.started": "2021-12-02T03:48:42.297339Z"
    },
    "tags": []
   },
   "outputs": [],
   "source": [
    "training_args = TrainingArguments(\n",
    "    output_dir=\"distilbert_multilabel\",\n",
    "    per_device_train_batch_size=batch_size,\n",
    "    per_device_eval_batch_size=2 * batch_size,\n",
    "    learning_rate=1e-5,\n",
    "    num_train_epochs=5,\n",
    "    evaluation_strategy=\"epoch\",\n",
    "    save_strategy=\"epoch\",\n",
    "    logging_steps=1,  # make sure validation loss is logged in each epoch\n",
    "    seed=42,\n",
    ")"
   ]
  },
  {
   "cell_type": "code",
   "execution_count": 25,
   "id": "074894a7-27ba-461a-a3b0-961c997f64b3",
   "metadata": {
    "execution": {
     "iopub.execute_input": "2021-12-02T03:48:43.343234Z",
     "iopub.status.busy": "2021-12-02T03:48:43.342957Z",
     "iopub.status.idle": "2021-12-02T04:14:19.017067Z",
     "shell.execute_reply": "2021-12-02T04:14:19.016091Z",
     "shell.execute_reply.started": "2021-12-02T03:48:43.343198Z"
    },
    "tags": []
   },
   "outputs": [
    {
     "name": "stderr",
     "output_type": "stream",
     "text": [
      "The following columns in the training set  don't have a corresponding argument in `DistilBertForSequenceClassification.forward` and have been ignored: Plot.\n",
      "***** Running training *****\n",
      "  Num examples = 22277\n",
      "  Num Epochs = 5\n",
      "  Instantaneous batch size per device = 8\n",
      "  Total train batch size (w. parallel, distributed & accumulation) = 24\n",
      "  Gradient Accumulation steps = 1\n",
      "  Total optimization steps = 4645\n",
      "/opt/conda/lib/python3.9/site-packages/torch/nn/parallel/_functions.py:68: UserWarning: Was asked to gather along dimension 0, but all input tensors were scalars; will instead unsqueeze and return a vector.\n",
      "  warnings.warn('Was asked to gather along dimension 0, but all '\n"
     ]
    },
    {
     "data": {
      "text/html": [
       "\n",
       "    <div>\n",
       "      \n",
       "      <progress value='4645' max='4645' style='width:300px; height:20px; vertical-align: middle;'></progress>\n",
       "      [4645/4645 25:26, Epoch 5/5]\n",
       "    </div>\n",
       "    <table border=\"1\" class=\"dataframe\">\n",
       "  <thead>\n",
       "    <tr style=\"text-align: left;\">\n",
       "      <th>Epoch</th>\n",
       "      <th>Training Loss</th>\n",
       "      <th>Validation Loss</th>\n",
       "    </tr>\n",
       "  </thead>\n",
       "  <tbody>\n",
       "    <tr>\n",
       "      <td>1</td>\n",
       "      <td>0.215300</td>\n",
       "      <td>0.241790</td>\n",
       "    </tr>\n",
       "    <tr>\n",
       "      <td>2</td>\n",
       "      <td>0.155900</td>\n",
       "      <td>0.218139</td>\n",
       "    </tr>\n",
       "    <tr>\n",
       "      <td>3</td>\n",
       "      <td>0.278900</td>\n",
       "      <td>0.211901</td>\n",
       "    </tr>\n",
       "    <tr>\n",
       "      <td>4</td>\n",
       "      <td>0.218100</td>\n",
       "      <td>0.211910</td>\n",
       "    </tr>\n",
       "    <tr>\n",
       "      <td>5</td>\n",
       "      <td>0.093300</td>\n",
       "      <td>0.213230</td>\n",
       "    </tr>\n",
       "  </tbody>\n",
       "</table><p>"
      ],
      "text/plain": [
       "<IPython.core.display.HTML object>"
      ]
     },
     "metadata": {},
     "output_type": "display_data"
    },
    {
     "name": "stderr",
     "output_type": "stream",
     "text": [
      "The following columns in the evaluation set  don't have a corresponding argument in `DistilBertForSequenceClassification.forward` and have been ignored: Plot.\n",
      "***** Running Evaluation *****\n",
      "  Num examples = 2476\n",
      "  Batch size = 48\n",
      "Saving model checkpoint to distilbert_multilabel/checkpoint-929\n",
      "Configuration saved in distilbert_multilabel/checkpoint-929/config.json\n",
      "Model weights saved in distilbert_multilabel/checkpoint-929/pytorch_model.bin\n",
      "/opt/conda/lib/python3.9/site-packages/torch/nn/parallel/_functions.py:68: UserWarning: Was asked to gather along dimension 0, but all input tensors were scalars; will instead unsqueeze and return a vector.\n",
      "  warnings.warn('Was asked to gather along dimension 0, but all '\n",
      "The following columns in the evaluation set  don't have a corresponding argument in `DistilBertForSequenceClassification.forward` and have been ignored: Plot.\n",
      "***** Running Evaluation *****\n",
      "  Num examples = 2476\n",
      "  Batch size = 48\n",
      "Saving model checkpoint to distilbert_multilabel/checkpoint-1858\n",
      "Configuration saved in distilbert_multilabel/checkpoint-1858/config.json\n",
      "Model weights saved in distilbert_multilabel/checkpoint-1858/pytorch_model.bin\n",
      "/opt/conda/lib/python3.9/site-packages/torch/nn/parallel/_functions.py:68: UserWarning: Was asked to gather along dimension 0, but all input tensors were scalars; will instead unsqueeze and return a vector.\n",
      "  warnings.warn('Was asked to gather along dimension 0, but all '\n",
      "The following columns in the evaluation set  don't have a corresponding argument in `DistilBertForSequenceClassification.forward` and have been ignored: Plot.\n",
      "***** Running Evaluation *****\n",
      "  Num examples = 2476\n",
      "  Batch size = 48\n",
      "Saving model checkpoint to distilbert_multilabel/checkpoint-2787\n",
      "Configuration saved in distilbert_multilabel/checkpoint-2787/config.json\n",
      "Model weights saved in distilbert_multilabel/checkpoint-2787/pytorch_model.bin\n",
      "/opt/conda/lib/python3.9/site-packages/torch/nn/parallel/_functions.py:68: UserWarning: Was asked to gather along dimension 0, but all input tensors were scalars; will instead unsqueeze and return a vector.\n",
      "  warnings.warn('Was asked to gather along dimension 0, but all '\n",
      "The following columns in the evaluation set  don't have a corresponding argument in `DistilBertForSequenceClassification.forward` and have been ignored: Plot.\n",
      "***** Running Evaluation *****\n",
      "  Num examples = 2476\n",
      "  Batch size = 48\n",
      "Saving model checkpoint to distilbert_multilabel/checkpoint-3716\n",
      "Configuration saved in distilbert_multilabel/checkpoint-3716/config.json\n",
      "Model weights saved in distilbert_multilabel/checkpoint-3716/pytorch_model.bin\n",
      "/opt/conda/lib/python3.9/site-packages/torch/nn/parallel/_functions.py:68: UserWarning: Was asked to gather along dimension 0, but all input tensors were scalars; will instead unsqueeze and return a vector.\n",
      "  warnings.warn('Was asked to gather along dimension 0, but all '\n",
      "The following columns in the evaluation set  don't have a corresponding argument in `DistilBertForSequenceClassification.forward` and have been ignored: Plot.\n",
      "***** Running Evaluation *****\n",
      "  Num examples = 2476\n",
      "  Batch size = 48\n",
      "Saving model checkpoint to distilbert_multilabel/checkpoint-4645\n",
      "Configuration saved in distilbert_multilabel/checkpoint-4645/config.json\n",
      "Model weights saved in distilbert_multilabel/checkpoint-4645/pytorch_model.bin\n",
      "\n",
      "\n",
      "Training completed. Do not forget to share your model on huggingface.co/models =)\n",
      "\n",
      "\n"
     ]
    },
    {
     "data": {
      "text/plain": [
       "TrainOutput(global_step=4645, training_loss=0.22298088123935672, metrics={'train_runtime': 1535.6079, 'train_samples_per_second': 72.535, 'train_steps_per_second': 3.025, 'total_flos': 1.4756986258176e+16, 'train_loss': 0.22298088123935672, 'epoch': 5.0})"
      ]
     },
     "execution_count": 25,
     "metadata": {},
     "output_type": "execute_result"
    }
   ],
   "source": [
    "trainer = Trainer(\n",
    "    model=model,\n",
    "    args=training_args,\n",
    "    train_dataset=dat[\"train\"],\n",
    "    eval_dataset=dat[\"validation\"],\n",
    ")\n",
    "trainer.train()"
   ]
  },
  {
   "cell_type": "code",
   "execution_count": 26,
   "id": "23e78b7b-de25-4279-b7be-4dcfab7822ec",
   "metadata": {
    "execution": {
     "iopub.execute_input": "2021-12-02T04:14:19.019186Z",
     "iopub.status.busy": "2021-12-02T04:14:19.018896Z",
     "iopub.status.idle": "2021-12-02T04:14:19.027971Z",
     "shell.execute_reply": "2021-12-02T04:14:19.027352Z",
     "shell.execute_reply.started": "2021-12-02T04:14:19.019153Z"
    },
    "tags": []
   },
   "outputs": [],
   "source": [
    "model.to(\"cuda:0\")\n",
    "model.eval()\n",
    "\n",
    "dl = DataLoader(dat[\"test\"], batch_size=8)"
   ]
  },
  {
   "cell_type": "code",
   "execution_count": 27,
   "id": "fefcbadd-abb9-4279-aaf2-b0f80a717b5a",
   "metadata": {
    "execution": {
     "iopub.execute_input": "2021-12-02T04:14:19.029178Z",
     "iopub.status.busy": "2021-12-02T04:14:19.028823Z",
     "iopub.status.idle": "2021-12-02T04:14:43.874355Z",
     "shell.execute_reply": "2021-12-02T04:14:43.873394Z",
     "shell.execute_reply.started": "2021-12-02T04:14:19.029147Z"
    },
    "tags": []
   },
   "outputs": [],
   "source": [
    "proba_labels = []\n",
    "sigmoid = nn.Sigmoid()\n",
    "for batch in dl:\n",
    "    batch = {k: v.to(\"cuda:0\") for k, v in batch.items()}\n",
    "    logits = model(**batch).get(\"logits\")\n",
    "\n",
    "    # Make sure there's at least one predicted label\n",
    "    # by setting the logit of the maximum to 10\n",
    "    max_proba = logits.argmax(axis=1)\n",
    "    for i in range(logits.shape[0]):\n",
    "        logits[i, max_proba[i]] = 10.0\n",
    "\n",
    "    y_pred = (sigmoid(logits) > 0.5).cpu().detach().numpy()\n",
    "    proba_labels.append(y_pred)\n",
    "\n",
    "proba_labels = np.vstack(proba_labels)\n",
    "y_labels = dat[\"test\"][\"labels\"].bool().cpu().detach().numpy()"
   ]
  },
  {
   "cell_type": "code",
   "execution_count": 28,
   "id": "21b22377-c5ed-4054-8aae-adb00ec4ba41",
   "metadata": {
    "execution": {
     "iopub.execute_input": "2021-12-02T04:14:43.876626Z",
     "iopub.status.busy": "2021-12-02T04:14:43.876400Z",
     "iopub.status.idle": "2021-12-02T04:14:43.900551Z",
     "shell.execute_reply": "2021-12-02T04:14:43.899888Z",
     "shell.execute_reply.started": "2021-12-02T04:14:43.876594Z"
    },
    "tags": []
   },
   "outputs": [
    {
     "name": "stdout",
     "output_type": "stream",
     "text": [
      "              precision    recall  f1-score   support\n",
      "\n",
      "      action       0.67      0.61      0.64       514\n",
      "      comedy       0.77      0.53      0.63       740\n",
      "       crime       0.48      0.28      0.35       154\n",
      " documentary       0.73      0.11      0.19        74\n",
      "       drama       0.60      0.70      0.65       969\n",
      "      family       0.77      0.39      0.52       257\n",
      "      horror       0.65      0.73      0.68       172\n",
      "     romance       0.51      0.36      0.42       201\n",
      "    thriller       0.51      0.30      0.38       228\n",
      "     western       0.85      0.85      0.85        97\n",
      "\n",
      "   micro avg       0.65      0.56      0.60      3406\n",
      "   macro avg       0.65      0.49      0.53      3406\n",
      "weighted avg       0.65      0.56      0.59      3406\n",
      " samples avg       0.65      0.59      0.60      3406\n",
      "\n"
     ]
    }
   ],
   "source": [
    "from sklearn.metrics import classification_report\n",
    "\n",
    "print(classification_report(y_labels, proba_labels, target_names=genre_names))"
   ]
  },
  {
   "cell_type": "code",
   "execution_count": 29,
   "id": "1cdf8273-7a76-46d2-ad90-a204c2578e2f",
   "metadata": {
    "execution": {
     "iopub.execute_input": "2021-12-02T04:14:43.901783Z",
     "iopub.status.busy": "2021-12-02T04:14:43.901510Z",
     "iopub.status.idle": "2021-12-02T04:14:43.909906Z",
     "shell.execute_reply": "2021-12-02T04:14:43.909313Z",
     "shell.execute_reply.started": "2021-12-02T04:14:43.901754Z"
    },
    "tags": []
   },
   "outputs": [
    {
     "name": "stdout",
     "output_type": "stream",
     "text": [
      "\n",
      "    Hamming accuracy: 0.573397552405186\n",
      "    Precision: 0.5925118138858597\n",
      "    Recall: 0.6506724827335514\n",
      "\n"
     ]
    }
   ],
   "source": [
    "true_pos = np.logical_and(y_labels, proba_labels).sum(axis=1)\n",
    "pred_pos = np.logical_or(y_labels, proba_labels).sum(axis=1)\n",
    "\n",
    "hamming_score = np.nansum(true_pos / pred_pos) / y_labels.shape[0]\n",
    "precision = np.nansum(true_pos / y_labels.sum(axis=1)) / y_labels.shape[0]\n",
    "recall = np.nansum(true_pos / proba_labels.sum(axis=1)) / y_labels.shape[0]\n",
    "\n",
    "print(\n",
    "    f\"\"\"\n",
    "    Hamming accuracy: {hamming_score}\n",
    "    Precision: {precision}\n",
    "    Recall: {recall}\n",
    "\"\"\"\n",
    ")"
   ]
  },
  {
   "cell_type": "code",
   "execution_count": 30,
   "id": "40b1995c-16dd-4a8b-ad0c-e576a37edda5",
   "metadata": {
    "execution": {
     "iopub.execute_input": "2021-12-02T04:14:43.911022Z",
     "iopub.status.busy": "2021-12-02T04:14:43.910777Z",
     "iopub.status.idle": "2021-12-02T04:14:44.073166Z",
     "shell.execute_reply": "2021-12-02T04:14:44.072578Z",
     "shell.execute_reply.started": "2021-12-02T04:14:43.910994Z"
    },
    "tags": []
   },
   "outputs": [
    {
     "name": "stdout",
     "output_type": "stream",
     "text": [
      "\n",
      "    True label: ['action']\n",
      "    Predicted label: ['action']\n",
      "    Plot: A British naval officer volunteers for a dangerous mission to infiltrate the base of pirates who threaten shipping off Madagascar.\n",
      "    \n",
      "\n",
      "    True label: ['comedy']\n",
      "    Predicted label: ['comedy']\n",
      "    Plot: The film starts off with Calvin \"Babyface\" Simms (Marlon Wayans) who is a very short convict. He is seen getting released and planning a robbery to steal a diamond with the help of his goofball cohort Percy (Tracy Morgan). After the successful robbery, the duo are almost arrested, but not before Calvin manages to stash the diamond in a nearby woman's purse. The thieves follow the handbag's owner to her home where they discover a couple, Darryl (Shawn Wayans) and Vanessa Edwards (Kerry Washington), who are eager to have a child.Calvin and Percy hatch a plot to pass Calvin off as a baby left on the couple's doorstep. After seeing Calvin, Darryl and Vanessa, wanting a child, immediately adopt the baby as their own. However, Vanessa's dad Francis \"Pops\" (John Witherspoon) has a bad feeling about Calvin. Friends of the couple find Calvin odd as well. Soon, Calvin warms up to the family. A local goon named Walken (Chazz Palminteri), discovers the deception and demands the diamond from Percy. Percy arrives at the house that Calvin is staying in, and convinces Walken's henchmen that Darryl is his partner. Walken and his henchmen go to the house and they keep Calvin and Darryl hostage. In a series of comedic maneuvers, Calvin manages to rescue Darryl and have Walken arrested. Darryl is given a substantial reward for the recovery of the diamond, and since Calvin saved his life, he doesn't turn him over to the police.Before he leaves, Calvin thanks Darryl for taking care of him even though he wasn't really a baby and admits that he thinks Darryl would make a great father for a real child someday. Calvin is about to be out of Darryl's life for good, as Darryl watches him leave. Calvin is crying hysterically, so Darryl decides to let Calvin stay and from that point on, the two men become the best of friends. The film ends at some point in the future with Calvin and Pops playing with Darryl and Vanessa's real baby, who looks exactly like Darryl (Shawn Wayans' face superimposed on that of the baby). And they all lived happily ever after.\n",
      "    \n",
      "\n",
      "    True label: ['action']\n",
      "    Predicted label: ['action', 'drama']\n",
      "    Plot: 8 months after triumphing over Serizawa Tamao (Takayuki Yamada), Takiya Genji (Shun Oguri) still struggles to attain supremacy at Suzuran All-Boys High School. Following a decisive defeat at the hands of the legendary Rindaman, and on the verge of graduating without fulfilling his goal, Genji grows quietly desperate. He begins challenging Rindaman regularly, but consistently fails to beat him. His situation escalates when he unwittingly breaks a non-aggression pact between Suzuran and a rival school, Housen Academy, by coming to the aid of Kawanishi Noboru (Shinnosuke Abe) during a heated confrontation. Genji learns that the agreement between the two schools was established two years prior when, during a skirmish, Noboru violated a gang law and used a weapon to fatally wound Housen's former leader, Bitō Makio. Suzuran had subsequently sworn not to interfere with Housen's retribution upon Noboru's release from prison. Genji's protection of Kawanishi provokes Housen's current leader, Narumi Taiga (Nobuaki Kaneko), to declare war against Suzuran. Genji and his allies go on the defensive, engaging in several violent conflicts with Housen's \"Army of Killers\".\n",
      "    \n",
      "\n",
      "    True label: ['comedy']\n",
      "    Predicted label: ['comedy']\n",
      "    Plot: Several railroad workers discover a yogurt-like white substance bubbling out of the ground. These workers find it to be sweet and addictive. Later, the substance, marketed as \"The Stuff,\" is being sold to the general public in containers like ice cream. It is marketed as having no calories and as being sweet, creamy, and filling. The Stuff quickly becomes a nationwide craze and drastically hurts the sales of ice cream.Former FBI agent turned industrial saboteur David \"Mo\" Rutherford is hired by the leaders of the suffering ice cream industry, as well as junk food mogul Charles W. \"Chocolate Chip Charlie\" Hobbs, to find out exactly what The Stuff is and destroy it.Under their commissions, Rutherford conducts an investigation into The Stuff. His efforts reveal, to his initial horror, that the craze for the dessert is far deadlier than anyone had believed: The Stuff is actually a living, parasitic, and possibly sentient organism that gradually takes over the brain; it then mutates those who eat it into bizarre zombie-like creatures, before consuming them from the inside and leaving them literal empty shells of their former selves.A young boy named Jason also discovers The Stuff is alive and sees how it affects his family and how they are adamant towards his beliefs on The Stuff. He gets arrested for vandalizing a supermarket display of The Stuff, attracting the attention of Rutherford, who comes to his aid. Rutherford also manages to charm Nicole, an advertising executive who becomes his partner and lover when she sees the effect of The Stuff. The trio infiltrates the distribution operation, which is actually an organized corporate effort to spread The Stuff on the basis of eliminating world hunger, and destroy the lake of The Stuff with explosives. Meanwhile, United States Army Col. Malcolm Grommett Spears, a retired right-wing soldier, leads a militia in battling the zombies and transmitting a civil defense message for Americans to break their addiction to The Stuff by destroying it with fire. The Stuff addiction is ended, and Rutherford, Nicole, Jason, and Col. Spears are hailed as national heroes.Mo then visits the head of The Stuff Company, a man named Mr. Fletcher. He tells Mo that the destruction of the mine has not hurt his business, since The Stuff seeps out from many places in the ground, but Mo vows to find those places and get rid of them all. Another man, Mr. Vickers, brings in Mr. Evans, the ice cream mogul with whom he is now working--and who had originally hired Mo to find out about what The Stuff was. They tell him they have come up with a new product that they call \"The Taste,\" which is a mix of 88% ice cream and 12% The Stuff, supposedly enough to make people crave more without it taking over their minds or killing them. However, Mo then brings in Jason, who is carrying a box, and then holds the two moguls at gunpoint. The box is full of pint containers of The Stuff, and Mo forces both to eat them all as punishment for all the lives lost to it, and for their greed. As they do, Rutherford asks pointedly, \"Are you eating it...or is it eating YOU?\" When they finish, Mo and Jason leave them to the approaching police.The film ends with smugglers selling The Stuff on the black market, having one of the smugglers tasting The Stuff, and revealing that samples of The Stuff still exist. In a post-credits scene, a woman in a bathroom says \"Enough is never enough\" while holding The Stuff.\n",
      "    \n",
      "\n",
      "    True label: ['action', 'drama']\n",
      "    Predicted label: ['action']\n",
      "    Plot: Professor Chakravarty and his wife Uma (Achala Sachdev) live with their four-year-old son in the jungle where he carries out experiments. He has discovered the formula to prevent ageing. Adversity strikes when their house is attacked by lions, killing him, while his wife goes mad with grief. The professor's son goes missing in the melee. The story then follows the arrival of several people seventeen years later from the city. One of them is the Professor's brother who has traveled to the jungle with his daughter in search of the missing formula and to look for the professor's son. There are villains in the group of people, wanting the formula for their own purposes. Chakravarty's son Zimbo has been brought up by the apes and the story takes a turn when they try to relocate him with Dada (Pedro the Chimpanzee) to the city.\n",
      "    \n",
      "\n",
      "    True label: ['horror']\n",
      "    Predicted label: ['horror']\n",
      "    Plot: Each spring, a party from a fort travels to Hudson Bay to trade pelts for winter provisions, but, in 1815, nobody returns.Brigitte and Ginger are lost with their horse in the Canadian wilderness when they come across a seemingly abandoned camp. An elderly Indian woman, who warns them that they must kill a boy to prevent one sister from killing the other, gives them each a pendant. As their startled horse runs off, Brigitte's foot is caught in a trap. Ginger seeks help, but the hunter frees Brigitte before she returns. He leads them to Fort Bailey, where they take refuge. Ginger says they are the daughters of a drowned trader and are seeking passage east.Werewolves have besieged the fort for some time. Murphy, the fort's physician, inspects Brigitte’s wound and applies a leech, surreptitiously testing for werewolf infection. They are given a room that belonged to Wallace's son. Awakened by a voice, Ginger investigates the corridors, where she eventually finds the source: a deformed boy kept in a small, bolted unlit room; he bites her shoulder as he flees.When Ginger and Brigitte attempt to leave, James confronts them. While Ginger and James are fighting, werewolves attack, killing one of the residents. Reverend Gilbert leads the sisters to an allegedly safe building, which actually contains a werewolf. The sisters run up the stairs, chased by the werewolf, but the hunter appears and kills it. As Ginger and Brigitte are going to their room Ginger's nose starts to bleed; a sign that she is infected.The sisters discover the boy who bit Ginger is Wallace's son, Geoffrey. As Ginger sleeps, he sneaks into the bedroom and wakes her. She tries to grab him, but he gets away, taking a lock of her hair; Geoffrey then kills a man who investigates the noise, and frames Ginger for his murder. James holds Brigitte captive as the others drag Ginger away. Wallace arrives, dismisses James, and makes a deal with Brigitte: her sister's life in exchange for their silence regarding his son. Wallace and Brigitte find Ginger at the doctor's, strapped to the examination table and held at gunpoint, about to be tested with a leech. When Wallace demands they release Ginger, Murphy ignores the order. Wallace shoots him dead, which prompts the other men to leave.Determined to kill Geoffrey, Ginger finds him as he cries at his mother's grave. He escapes and is captured instead by the men. Wallace arrives and kills his son himself. The sisters' protection at an end, Ginger is forced to leave, and Brigitte goes with her. Desperate for a cure, the sisters go to the hunter's cave, and Ginger kills their guide shortly before they arrive.At the cave, the hunter and Indian seer woman reveal the sisters' coming had long been prophesied and that the Red and the Black would decide the destiny of the werewolf bloodline. After Brigitte enters a trance-like state, she has a vision of her destiny - the hunter attempts to kill Ginger, and she kills her sister herself. As Brigitte emerges from the trance she finds the seer is dead, killed by Ginger, who has fled. The hunter leads Brigitte back to the fort.Back at the fort, Brigitte is taken prisoner. Gilbert tells her to beg forgiveness, but she spits in his face. Gilbert drags her out onto the parade square and prepares to burn her alive. Wallace interrupts him, runs Gilbert through with his sword, and sets him on fire. James engages Ginger in a fight, and she slashes his throat. As he falls to the ground, Ginger opens the gates and ushers in the werewolves. While the hunter holds his own against them, Wallace is soon bitten and sets the fort on fire before killing himself. The hunter urges Brigitte to kill her sister; instead, Brigitte kills the hunter and flees with her sister.The film ends with only Ginger and Brigitte left alive huddled in the snow. When Brigitte says that she is cold, Ginger says that she is not. Brigitte then holds out her hand and presses a cut on it against a cut on Ginger's hand - mingling their blood and infecting Brigitte.\n",
      "    \n",
      "\n",
      "    True label: ['comedy', 'romance']\n",
      "    Predicted label: ['comedy']\n",
      "    Plot: A pair of brides-to-be put their friendship to the test when they battle it out for the perfect wedding scheduled on the same day.\n",
      "    \n",
      "\n",
      "    True label: ['action', 'drama', 'family']\n",
      "    Predicted label: ['drama']\n",
      "    Plot: Former Olympic medallist boxer Baldev Choudhary (Dharmendra) is disgraced while competing for the World Heavy weight championship when a betting syndicate falsely accuses him of drug doping. He tries to erase this stain upon his honour by training up his son, Angad (Sunny Deol) but financial difficulties keep them from achieving his dream. He trains a local boy to get into a media hyped TV boxing show, but is dropped for a better coach at the last minute. Baldev's younger son Karan (Bobby Deol) has just launched his first music album. Realising his father is depressed, he gives up his own dream of a musical career to become a boxer and please his father. Karan persists with training and wins a series of fights, thinking that victory will bring his family together. The final match is with the current world heavy champion; Karan is tricked and he ends up paralysed in a hospital bed. Baldev, who wanted to wash a stigma is now about to lose his son. When Karan reveals the world heavy champion cheated, Angad decides to return to boxing and win the title for his father. He eventually brings the world heavyweight champion belt to India in triumph, however meanwhile Karan suffers liver damage and requires a liver to survive. A guilt stricken Baldev pleads with the doctors to use his liver, but the doctors reject the idea. In a stroke of luck, a liver is given to Karan through an unknown donor. In the end, Baldev who was going to give up his life for Karan, is instead alive and happy with his family.\n",
      "    \n",
      "\n",
      "    True label: ['comedy']\n",
      "    Predicted label: ['comedy']\n",
      "    Plot: Old Mother Riley does the laundry for the dancers in the pantomime \"Aladdin\", where her daughter Kitty works as a chorus girl. Sneaking a peek at the show one day, Mother Riley accidentally pops up through a trap door onto the stage. Accosted by the angry star, Mother Riley’s belligerent responses have the audience in stitches. Outraged, the star walks out, leaving Kitty to take over the leading role, to great success. Kitty is congratulated after the show by wealthy high society boy Tony Morgan, and the couple start to fall in love. Tony and Kitty eventually marry and move into the Morgan family mansion, taking Mother Riley with them, as Kitty’s personal maid. During a swanky party to introduce Kitty to Tony's upper class friends, rumours start up about Kitty’s former stage career. Kitty is about to confess her past, but Mother Riley - fearing this will have damaging effect on her daughter’s social standing - causes a disruption, then leaves a goodbye note and vanishes. Kitty tells Tony the truth, and the couple hire a detective to trace Mother Riley, but without success. Mother Riley works her way through a variety of dead end jobs after separating from Kitty, and ends up living in a dingey hostel and picking up degrading casual work as a dishwasher. A chance encounter with old friend Tug Mulligan results in her reunion with Kitty; Tony’s family explains they’re not \"high society\" after all, merely \"nouveau riche\". \"We made our money in sausages\", declares Lady Morgan; \"then we're all friends together\", replies Mother Riley. \n",
      "    \n",
      "\n",
      "    True label: ['documentary', 'drama']\n",
      "    Predicted label: ['drama']\n",
      "    Plot: In New York City in the fall of 1937, 17-year-old high-school student Richard Samuels meets Orson Welles, who unexpectedly offers him the role of Lucius in Caesar, the first production of his new Mercury Theatre repertory company. The company is immersed in rehearsals at its Broadway theater. Charmed by Welles, Richard infers that he is having an affair with the leading actress while his wife is pregnant. Richard finds ambitious production assistant Sonja Jones is attracted to him.Welles tells Richard a few days before the premiere that he is worried, because he has recently had nothing but good luck; he fears that he will finally have bad luck with the premiere, and that the play will be a flop. During rehearsals Richard accidentally sets off the sprinkler system, soaking the entire theatre. When accused by Welles he denies having anything to do with the deluge, and suggests that the catastrophe was the bad luck that Welles needed to get out of the way.Welles decides the entire production crew would benefit from a coupling game, and Richard cheats to ensure he is paired with Sonja. Richard spends the night with Sonja, but becomes jealous when she spends the next night with Welles. He confronts Welles, mentions his pregnant wife, and is fired. An apparent reconciliation follows, and Richard performs on the first night. The anti-fascist adaptation of Caesar is a huge success, but after the premiere, Richard is told that Welles only needed him in order to secure a successful first-night production and, that done, he has again been fired.The broken-hearted but wiser Richard spontaneously recites lines from Julius Caesar in his high school English class, to his classmates' applause. He later meets up with a likely new girlfriend, Gretta Adler, a young aspiring playwright whom he met in a music store at the film's beginning. With Richard's and Sonja's assistance, Adler manages to get a story published in The New Yorker, and she invites Richard out, to help her celebrate.\n",
      "    \n",
      "\n",
      "    True label: ['drama']\n",
      "    Predicted label: ['drama']\n",
      "    Plot: In 1984, 33 years after the events depicted in The Last Picture Show, 50-year-old Duane Jackson (Bridges) is a wealthy tycoon of a near-bankrupt oil company. His relationship with his family is not prospering, either. His wife, Karla (Annie Potts), believes that Duane is cheating on her, and his son, Dickie (William McNamara), seems to be following in his father's libidinous footsteps.Ruth Popper (Cloris Leachman) works as Duane's secretary, and despondent Lester Marlow (Quaid), now a businessman, seems a prime candidate for a business crisis, a heart attack, or both.Sonny Crawford's (Bottoms) increasingly erratic behavior causes Duane concern over Sonny's mental health.Jacy Farrow (Shepherd) has traveled the world and experienced its pleasures. A painful tragedy brings her back to her hometown and once again into Duane's life.\n",
      "    \n",
      "\n",
      "    True label: ['horror']\n",
      "    Predicted label: ['horror']\n",
      "    Plot: Psychiatrist Dr. Ty Adams (Michael Beach) comes to the Sedah State Mental Hospital to film a documentary. While coming across self-assured and overconfident, Adams is secretly haunted by the death of his daughter. He strikes up a friendship with the facility's administrator, Dr. Samuel Delazo (Ronny Cox), playing an ongoing chess game with him. Adams is intrigued by a patient named Barnett (Eriq La Salle) who claims to be Satan and takes a personal interest in his case.When a patient goes to the roof to commit suicide, Adams arrogantly prevents the police from accessing the roof and attempts to talk her down himself. Barnett inexplicably appears on the rooftop and reveals jarring truths about Adams, and the patient subsequently jumps to her death. The incident calls a halt to the documentary. Adams declares Barnett a danger to the other patients and has him placed in solitary. Adams tracks down Barnett's mother and, satisfied that he had uncovered Barnett's real identity, prepares to move on from the facility. Adams and Dr. Delazo regretfully say their goodbyes, their chess game unfinished. Just before he leaves, Barnett's mother arrives and asks him to take a fruit basket to her son. She asks Adams if he believes in God, and he replies that he doesn't.He takes one last look at Barnett straitjacketed in his cell, but when he is distracted by an orderly (Sinbad), he looks back into the room to find it empty. Turning back to the hallway, he sees Barnett's mother taking off a wig, revealing herself to be Barnett in women's clothes. Pursuing him, Adams stumbles into a bedroom where he finds his own bloody corpse, apparently having killed himself over his daughter's death. He suddenly is in a library where Dr. Delazo sits on a throne as the devil surrounded by the patients and staff, all horribly transformed. Delazo says, \"Checkmate.\" Adams shouts that it isn't real, and that he knows who he is. Delazo asks \"Who are you?\" Adams says he's a good man. Delazo replies \"Then why are you here?\" As Adams keeps protesting that he's a good man, the screen fades to black.\n",
      "    \n",
      "\n",
      "    True label: ['thriller']\n",
      "    Predicted label: ['crime']\n",
      "    Plot: In a secluded French hotel, a large inheritance is the motivation for threats and kidnappings.\n",
      "    \n",
      "\n",
      "    True label: ['crime']\n",
      "    Predicted label: ['thriller']\n",
      "    Plot: Reclusive cop Dave (Daniel Wu) unwittingly saves the life of criminal gang leader Hon Kong (Nick Cheung) by donating his blood, thus symbolizing that despite diametrically opposed outer appearances they are essentially made of the same stuff. The gang members hide their faces behind traditional demon masks when committing their violent crimes. During psychotic episodes Dave experiences his own demons within as he sets out to play off the gang members against each other, resulting in everyone's annihilation. It is then revealed that Dave was brought up by a high expressed emotion father in a socio-economically disadvantaged living environment. He witnessed his father's death inadvertently caused by the responsible policeman who resembled Hon Kong. As a young, innocent soul who had lost the father, he impulsively went on to take revenge, resulting in excessive guilt that predisposed the onset of psychosis later in his life. The event whereby he rescued Hon Kong reminded him of his suppressed memories as a child who had done wrong but trying the hardest to make reparation. Before his inevitable death, there was an opportunity for him to resolve his subconscious intrapersonal conflicts which was to have the courage to fix a mistake done.\n",
      "    \n",
      "\n",
      "    True label: ['drama', 'romance']\n",
      "    Predicted label: ['romance']\n",
      "    Plot: While traveling by train Shekhar attempts to woo Sanjana Sharma, but finds out she had given her heart to a former boyfriend, Rohit, who is no more. Both share some misadventures en route to Simla, and upon arrival Shekhar openly declares his love for her knowing fully that this decision will bring nothing but heartbreak for him\n",
      "    \n",
      "\n",
      "    True label: ['thriller']\n",
      "    Predicted label: ['thriller']\n",
      "    Plot: Gumnaam - The Mystery starts with an unknown lady (Mahima Chaudhary) driving in a rainy night, who is eventually murdered as she drives, and her finger is cut off.The story then pivots to one of an aspiring actress, Ria (also Mahima Chaudhary in a double role) who models and acts in music videos. She has her eyes set on making it big in films as a lead actress. During one of her shoots, she meets Dev (Dino Morea), a stuntman, who saves her life during an accident on the set. She's impressed with him; soon love blossoms between them and they are on a romantic high. Meanwhile Ria is offered a lead role in a film by casting director Rishi Gandhi (Madan) on the condition that she leaves for Shimla the next day. Dev is very happy about her getting the role and sees her off, wishing all the luck.On reaching the film director's mansion in Shimla, she is introduced to the film's director, Muni Gandhi (Govind Namdeo), who praises her beauty and appreciates his assistant's perfect choice of casting her as the heroine. Slowly Ria begins to see some unusual things around her. The director asks her to give a screen test, however when she asks for a second take she is refused. His assistant Rishi Gandhi delivers the cassette to Remon (Suman Ranganathan), a rich woman in a huge mansion in Shimla, the reason why he did so is not explained. Thereafter, Ria is not allowed to leave the mansion and also not allowed to make phone calls. She notices that she is being spied upon by the casting director Rishi in her bedroom through a mask. Ria later explores the cellars of the mansion and to her horror, finds the dead body of the unknown lady resembling her in a coffin. Her suspicions of the entire set up start building up.The next day, when she wakes up, she sees that her hair has been cut and finger been removed, exactly like the dead woman in the cellar. Upon confronting the Gandhis, she realises that she is to be used as a pawn of extortion from Remon.The rest of this thrilling drama unfolds, with Remon's role in the thriller being explained. Dev also becomes involved when he arrives in Shimla to look for Ria. The involvement of a rich uncle, and his eventual murder by Remon further complicates the plot. Eventually, Remon and the Gandhis are brought to justice.\n",
      "    \n",
      "\n",
      "    True label: ['drama']\n",
      "    Predicted label: ['comedy']\n",
      "    Plot: The story begins on \"the strangest day\" of Larry Burrows' (James Belushi) life (his 35th birthday) consisting of a series of comic and dramatic misadventures. Larry, who blames all of his life's problems on the fact that he struck out during a key moment of his state high school baseball championship game on his 15th birthday, wishes he had done things differently. His wish is granted by a guardian angel-like figure named Mike (Michael Caine), who appears at various times as a bartender, a cab driver, and so on. Larry soon discovers that Mike has transferred Larry into an alternative reality in which he had won the pivotal high school game. He now finds himself rich and (within his company) powerful, and married to the boss's (Bill McCutcheon) sexy daughter Cindy Jo Bumpers (Rene Russo). At first, his new life seems perfect, but he soon begins to miss his best friend Clip Metzler (Jon Lovitz) and wife Ellen (Linda Hamilton) from his previous life; he also discovers that his alternative self has created many enemies, like Jewel Jagger (Courteney Cox), and as Larry's problems multiply, he finds himself wishing to be put back into his old life.The story begins with Larry's car, an old Ford LTD station wagon, stalled out in a dark alley. Suddenly the pink lights of \"The Universal Joint,\" a bar, come on. Larry goes inside to call a tow truck, and tells bartender Mike his troubles. He reviews the day he just had, which ended with his getting fired after discovering his department head Niles Pender's (Hart Bochner) scheme to sell the company under the nose of its owners to a group of naive Japanese investors. He tells Mike that he wishes he'd hit that last pitch out of the park, after which Mike fixes him a drink called \"The Spilt Milk.\" The Spilt Milk was a drink that gave him his wish that he hit that home run in that championship game.Larry leaves the bar, walks home (his car apparently towed) and discovers someone else living in his house, which is now fixed up (previously his yard and driveway were muddy and unfinished). Mike appears as a cab driver and drives him to his \"new\" home, a mansion in Forest Hills, explaining that he did in fact hit the last pitch and won the game. He soon discovers that Cindy Jo is his wife and he's the president of his company, Liberty Republic Sporting Goods. Being a classic car buff, he's shocked to find that he owns a collection of priceless antique automobiles.Larry soon discovers that Clip has a low-level job in the accounting department and is quite insecure, as opposed to the jokester he was before. Ellen is shop steward (in both realities) and is married to another man. Jewel, a forklift operator in the previous reality, is now Larry's mistress and his secretary. Ellen hates Larry and he discovers that the union is threatening a walkout due to massive layoffs and increased production, since Niles is selling Liberty Republic in both realities. Seeing Ellen, he realizes how much he misses her and agrees to all the union's demands, providing Ellen agrees to dinner at his favorite restaurant. She reluctantly agrees, and Larry eventually convinces her that they were married in a previous life.After discovering that Larry has agreed to union demands, Niles takes revenge, by telling both Cindy Jo and Jewel of Larry's dinner date with Ellen. He then plots to kill Larry at the office that night. However, company owner Leo Hansen arrives to deliver a note to Larry, announcing his termination, and Niles kills him by mistake. Discovering the note, Niles calls the police who attempt to arrest Larry for Leo's murder. Larry escapes while jealous Jewel creates pandemonium outside in her attempts to shoot him (and shoots out a number of police cars in the process), leading to a police chase. Larry is eventually cornered in a dark alley, but the pink glow of \"The Universal Joint\" comes on and he runs into the bar. Unable to find Mike, Larry attempts to make the \"Spilt Milk\" himself, the ingredients clearly aged.The flashing lights of the police cars appear and Larry surrenders, but instead of cops, a tow truck driver named Duncan enters (the police car lights now tow truck lights). Confused at first, Larry sees Mike back behind the bar and realizes he's back in his old life. Larry thanks Mike for everything and, upon exiting the bar, suddenly realizes that the deal with the Japanese investors is happening shortly. Driven by Duncan to company headquarters, Larry barges into the boardroom, decks Niles and exposes his scheme just as Leo is about to sign the deal.Thinking everyone forgot his birthday, Larry returns home (which still has the muddy driveway and lawn) to a surprise party with his family and friends in attendance. Soon after, Cindy Jo and her husband Jackie Earle (Jay O. Sanders), the company president, arrive. Jackie offers Niles' job to Larry, plus a company car, a new Mercedes, and he accepts.Back in the past, young Larry is about to leave the stadium, still upset about the loss, when he's approached by a mysterious stranger (Mike) who reassures him that everything will be all right. Larry thanks him for the reassurance, but walks off wondering who Mike thinks he's kidding.\n",
      "    \n",
      "\n",
      "    True label: ['drama']\n",
      "    Predicted label: ['drama']\n",
      "    Plot: Zamindar Bhujangarao (Gummadi) has two sons. The elder son Raghunath Rao (Akkineni Nageswara Rao) born to his first wife is a retard. After her death, he married Rajeswari (Santha Kumari) and the couple has a son Nagendra Rao / Naagu (Jaggaiah) a man of vices. Impressed by the way Padma (Savitri) a village girl faced Naagu when he threatened to take their farm lands, the Zamindar fixes Naagu’s marriage with her. But Rajeswari vetoes the alliance and suggests to perform her marriage with Raghu. After marriage, Padma learns that Raghu became a retard due to the opium-fed during his childhood to put him to sleep by the maid, Ayamma (Vijayalakshmi). She takes up the task of making him normal and also keeping the whiplashing-Naagu at a distance from Raghu. The zamindar rewrites the will in Raghu’s name and dies. But Raghu leaves the property to the peeved Rajeswari and Nagu and goes to the village with his wife. Naagu brings his paramour Neelaveni (Surabhi Balasaraswati) who along with her entourage (Sivaramakrishnaiah, Kasipathi and Gangarathnam) eye Naagu’s property. When he learns that the farmers paid the tax to Raghu, an enraged Naagu goes to the village with a rifle. At the same time, Raghu brings the money to give it to him. A repentant Rajeswari along with Raghu reaches the village, to bring sense in Nagu. When she fails, she takes the rifle and aims at him. But the Padma shields him. Naagu is a changed man.\n",
      "    \n",
      "\n",
      "    True label: ['action']\n",
      "    Predicted label: ['drama']\n",
      "    Plot: A group of 26 Czechoslovakian citizens are jailed as hostages by the Gestapo until the supposed killer of a Nazi officer - who actually committed suicide - is turned in. The hostages include the leader of the underground resistance movement (William Bendix), whose cover is that of an apparently ignorant washroom attendant in the nightclub where the victim was last seen alive.\n",
      "    \n",
      "\n",
      "    True label: ['western']\n",
      "    Predicted label: ['western']\n",
      "    Plot: As described in a film magazine,  easy going rancher Jeff Bransford (Gibson) returns to his ancestral acres and finds them heavily mortgaged and about to be foreclosed and the hired men defended them with guns. He tries to borrow money to satisfy the mortgage but is unsuccessful. That night a robbery is committed on a neighboring farm with five thousand dollars stolen from Major Parker (MacQuarrie), and suspicion is thrown upon Jeff. After much hard riding and several stiff fights, the real culprits are apprehended and Jeff is vindicated. Parker had intended to loan Jeff some money to help with his difficulties. In return, Jeff saves the married Elinor Parker (Brunette) from running away with a worthless scamp and causing a scandal.\n",
      "    \n"
     ]
    }
   ],
   "source": [
    "# Get genre names and plot text\n",
    "true_labels = [\n",
    "    [genre_names[x] for x in np.argwhere(arr == 1).flatten()] for arr in y_labels\n",
    "]\n",
    "plots = dat[\"test\"][\"Plot\"]\n",
    "pred_labels = [\n",
    "    [genre_names[x] for x in np.argwhere(arr == 1).flatten()] for arr in proba_labels\n",
    "]\n",
    "\n",
    "for i in range(20):\n",
    "    print(\n",
    "        f\"\"\"\n",
    "    True label: {true_labels[i]}\n",
    "    Predicted label: {pred_labels[i]}\n",
    "    Plot: {plots[i]}\n",
    "    \"\"\"\n",
    "    )"
   ]
  }
 ],
 "metadata": {
  "kernelspec": {
   "display_name": "Python 3 (ipykernel)",
   "language": "python",
   "name": "python3"
  },
  "language_info": {
   "codemirror_mode": {
    "name": "ipython",
    "version": 3
   },
   "file_extension": ".py",
   "mimetype": "text/x-python",
   "name": "python",
   "nbconvert_exporter": "python",
   "pygments_lexer": "ipython3",
   "version": "3.9.7"
  }
 },
 "nbformat": 4,
 "nbformat_minor": 5
}
